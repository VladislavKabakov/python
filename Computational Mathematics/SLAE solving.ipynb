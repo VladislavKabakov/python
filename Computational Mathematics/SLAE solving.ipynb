{
 "cells": [
  {
   "cell_type": "code",
   "execution_count": 1,
   "id": "5065a5c8",
   "metadata": {},
   "outputs": [],
   "source": [
    "import numpy as np\n",
    "import copy\n",
    "\n",
    "import warnings\n",
    "warnings.filterwarnings(\"ignore\")"
   ]
  },
  {
   "cell_type": "markdown",
   "id": "5255d34d",
   "metadata": {},
   "source": [
    "## Direct methods"
   ]
  },
  {
   "cell_type": "code",
   "execution_count": 31,
   "id": "18501990",
   "metadata": {},
   "outputs": [],
   "source": [
    "def gauss_jordan(A, b):\n",
    "    \n",
    "    n = len(b)\n",
    "    X = []\n",
    "    zer = np.zeros((n, n + 1))\n",
    "    zer[:, 0:n] = A\n",
    "    zer[:, n] = b\n",
    "    \n",
    "    for i in range(n):\n",
    "        if zer[i, i] == 0:\n",
    "            for j in range(i + 1, n):\n",
    "                if zer[j, i] != 0:\n",
    "                    zer[i, :] = zer[i, :] + zer[j, :]\n",
    "                    break\n",
    "            \n",
    "        if zer[i, i] == 0:\n",
    "            raise Exception('The matrix is degenerate')\n",
    "        \n",
    "        zer[i, :] = zer[i, :] / zer[i, i]\n",
    "        for j in range(n):\n",
    "            if i != j:\n",
    "                zer[j, :] = zer[j, :] - zer[i, :] * zer[j, i]\n",
    "        X = zer[:, n]\n",
    "    \n",
    "    return X\n",
    "        "
   ]
  },
  {
   "cell_type": "code",
   "execution_count": 3,
   "id": "0ae0a5fb",
   "metadata": {},
   "outputs": [],
   "source": [
    "def cramer(A, b):\n",
    "    det_A = np.linalg.det(A)\n",
    "    n = len(b)\n",
    "    X = np.zeros(n)\n",
    "    \n",
    "    for k in range(n):\n",
    "        min_k = A.copy()\n",
    "        min_k[:, k] = b\n",
    "        det_min_k = np.linalg.det(min_k)\n",
    "        X[k] = det_min_k / det_A\n",
    "        \n",
    "    return X"
   ]
  },
  {
   "cell_type": "code",
   "execution_count": 4,
   "id": "95dcab97",
   "metadata": {},
   "outputs": [],
   "source": [
    "def get_cholesky(A):\n",
    "        \n",
    "    L = np.zeros_like(A)\n",
    "    n, _ = np.shape(A)\n",
    "    \n",
    "    for j in range(n):\n",
    "        for i in range(j, n):\n",
    "            if i == j:\n",
    "                L[i, j] = np.sqrt(A[i, j] - np.sum(L[i, :j] ** 2))\n",
    "            else:\n",
    "                L[i, j] = (A[i, j] - np.sum(L[i, :j] * L[j, :j])) / L[j, j]\n",
    "    return L\n",
    "\n",
    "def cholesky(L, Lt, b):\n",
    "    n, _ = np.shape(L)\n",
    "    y, X = np.zeros(n), np.zeros(n)\n",
    "    \n",
    "    for i in range(n):\n",
    "        y[i] = (b[i] - np.sum(L[i, :i] * y[:i])) / L[i, i]\n",
    "\n",
    "        \n",
    "    for i in range(n-1, -1, -1):\n",
    "        X[i] = (y[i] - np.sum(Lt[i, i+1:n] * X[i+1:n])) / Lt[i, i]\n",
    "    \n",
    "    return X"
   ]
  },
  {
   "cell_type": "markdown",
   "id": "ecd67130",
   "metadata": {},
   "source": [
    "## Iteration methods"
   ]
  },
  {
   "cell_type": "code",
   "execution_count": 5,
   "id": "184c775a",
   "metadata": {},
   "outputs": [],
   "source": [
    "accuracy = (10) ** (-10)\n",
    "k_max = 200\n",
    "w = 1.5"
   ]
  },
  {
   "cell_type": "code",
   "execution_count": 51,
   "id": "dd54dd12",
   "metadata": {},
   "outputs": [],
   "source": [
    "def jacobi(A, b):\n",
    "    \n",
    "    global accuracy, k_max\n",
    "    \n",
    "    len_b = len(b)\n",
    "    R = A\n",
    "    D = np.zeros(len_b)\n",
    "    X = np.zeros((len_b, 1))\n",
    "    k = 0\n",
    "    \n",
    "    while k < k_max:\n",
    "        prev_X = X\n",
    "        for i in range(len_b):\n",
    "            sm = 0\n",
    "            for j in range(len_b):\n",
    "                if i != j:\n",
    "                    sm += A[i, j] * X[j, 0]\n",
    "                    \n",
    "            X[i, 0] = (b[i] - sm) / X[j, 0]\n",
    "        \n",
    "        if np.linalg.norm(X - prev_X) < accuracy:\n",
    "            break\n",
    "        \n",
    "        k += 1\n",
    "\n",
    "    return X  "
   ]
  },
  {
   "cell_type": "code",
   "execution_count": 52,
   "id": "89a9abb4",
   "metadata": {},
   "outputs": [],
   "source": [
    "def gauss_seidel(A, b):\n",
    "    global k_max, accuracy\n",
    "    \n",
    "    n = len(A)\n",
    "    prev_X = np.zeros((n, 1))\n",
    "    X = np.zeros((n, 1))\n",
    "    k = 0\n",
    "    \n",
    "    while k < k_max:\n",
    "        for i in range(n):\n",
    "            sm = 0\n",
    "            for j in range(0, i - 1):\n",
    "                sm += A[i, j] * prev_X[j]\n",
    "            for j in range(i + 1, n):\n",
    "                sm += A[i, j] * X[j]\n",
    "            prev_X[i] = (b[i] - sm) / A[i, i]\n",
    "        \n",
    "        k += 1\n",
    "        X = prev_X\n",
    "        if np.linalg.norm(X - prev_X) < accuracy:\n",
    "            break\n",
    "    \n",
    "    return X"
   ]
  },
  {
   "cell_type": "code",
   "execution_count": 71,
   "id": "30f6a799",
   "metadata": {},
   "outputs": [],
   "source": [
    "def relaxation(A, b):\n",
    "\n",
    "    global accuracy, k_max, w\n",
    "    \n",
    "    len_b = len(b)\n",
    "    D, R, L, X = np.zeros((len_b, len_b)), np.zeros((len_b, len_b)), np.zeros((len_b, len_b)), np.zeros((len_b, 1))\n",
    "    k = 0\n",
    "    \n",
    "    for i in range(len_b):\n",
    "        for j in range(len_b):\n",
    "            if i == j: D[i, i] = A[i, i]\n",
    "            elif i > j: L[i, j] = A[i, j]\n",
    "            else: R[i, j] = A[i, j]\n",
    "    \n",
    "    while k < k_max:\n",
    "        prev_X = X\n",
    "        X = np.linalg.inv(L + D) @ (b - R @ X)\n",
    "        X = prev_X + w * (X - prev_X)\n",
    "        if np.linalg.norm(X - prev_X) < accuracy:\n",
    "            break\n",
    "        k += 1\n",
    "            \n",
    "    return X"
   ]
  },
  {
   "cell_type": "markdown",
   "id": "0fe0ca7f",
   "metadata": {},
   "source": [
    "## Getting run time"
   ]
  },
  {
   "cell_type": "code",
   "execution_count": 53,
   "id": "f1776820",
   "metadata": {},
   "outputs": [],
   "source": [
    "import time"
   ]
  },
  {
   "cell_type": "code",
   "execution_count": 54,
   "id": "416d34ea",
   "metadata": {},
   "outputs": [],
   "source": [
    "direct_times = {'Gauss-Jordan method': [], 'Cramer method': [], 'Cholesky method' : []}\n",
    "siz = [x for x in range(100, 501, 100)] "
   ]
  },
  {
   "cell_type": "code",
   "execution_count": null,
   "id": "49a89555",
   "metadata": {},
   "outputs": [],
   "source": [
    "for size in siz:\n",
    "    \n",
    "    R, b = np.random.randint(-15, 15, size=(size, size)), np.random.randint(-20, 20, size=size)\n",
    "    A = (R + R.T) / 2\n",
    "    \n",
    "    for method in list(direct_times.keys())[:-1]:\n",
    "        meth = method.split(' ')[0].lower().replace('-', '_')\n",
    "        start_time = time.time()\n",
    "        eval(meth)(A, b)\n",
    "        direct_times[method].append(time.time() - start_time)\n",
    "    \n",
    "    start_time = time.time()\n",
    "    L = get_cholesky(A)\n",
    "    Lt = L.T\n",
    "    cholesky(L, Lt, b)\n",
    "    direct_times['Cholesky method'].append(time.time() - start_time)"
   ]
  },
  {
   "cell_type": "markdown",
   "id": "a3042ca5",
   "metadata": {},
   "source": [
    "## Plotting"
   ]
  },
  {
   "cell_type": "code",
   "execution_count": 46,
   "id": "5d5f056f",
   "metadata": {},
   "outputs": [],
   "source": [
    "import matplotlib\n",
    "import matplotlib.pyplot as plt"
   ]
  },
  {
   "cell_type": "markdown",
   "id": "c4f62faa",
   "metadata": {},
   "source": [
    "### Direct methods"
   ]
  },
  {
   "cell_type": "code",
   "execution_count": 47,
   "id": "f55e2e48",
   "metadata": {},
   "outputs": [],
   "source": [
    "colors = ['pink', 'navy', 'blueviolet']"
   ]
  },
  {
   "cell_type": "code",
   "execution_count": 48,
   "id": "6615cb3a",
   "metadata": {},
   "outputs": [
    {
     "data": {
      "text/plain": [
       "<matplotlib.legend.Legend at 0x17da85a6d10>"
      ]
     },
     "execution_count": 48,
     "metadata": {},
     "output_type": "execute_result"
    },
    {
     "data": {
      "image/png": "[encoded data removed]",
      "text/plain": [
       "<Figure size 720x720 with 1 Axes>"
      ]
     },
     "metadata": {
      "needs_background": "light"
     },
     "output_type": "display_data"
    }
   ],
   "source": [
    "plt.figure(figsize=(10, 10))\n",
    "plt.title('Direct methods')\n",
    "plt.xlabel('Size of matrix')\n",
    "plt.ylabel('Eval time, s')\n",
    "\n",
    "for method in direct_times.keys():\n",
    "    plt.plot(siz, direct_times[method], color=colors.pop(0), label=method)\n",
    "\n",
    "plt.legend()"
   ]
  },
  {
   "cell_type": "markdown",
   "id": "eb7bc09d",
   "metadata": {},
   "source": [
    "### Iteration methods"
   ]
  },
  {
   "cell_type": "code",
   "execution_count": 74,
   "id": "b560ed73",
   "metadata": {},
   "outputs": [],
   "source": [
    "iter_times = {'Jacobi method': [], 'Gauss-Seidel method': [], 'Relaxation method': []}"
   ]
  },
  {
   "cell_type": "code",
   "execution_count": 75,
   "id": "3a8efc95",
   "metadata": {},
   "outputs": [],
   "source": [
    "for size in siz:\n",
    "    \n",
    "    R, b = np.random.randint(-15, 15, size=(size, size)), np.random.randint(-20, 20, size=size)\n",
    "    A = R @ R.T + np.ones((size, size)) * size ** 3\n",
    "    \n",
    "    for method in list(iter_times.keys()):\n",
    "        meth = method.split(' ')[0].lower().replace('-', '_')\n",
    "        start_time = time.time()\n",
    "        eval(meth)(A, b)\n",
    "        iter_times[method].append(time.time() - start_time)"
   ]
  },
  {
   "cell_type": "code",
   "execution_count": 76,
   "id": "037212b2",
   "metadata": {},
   "outputs": [],
   "source": [
    "colors = ['navy', 'darksalmon', 'green']"
   ]
  },
  {
   "cell_type": "code",
   "execution_count": 77,
   "id": "dc3fae90",
   "metadata": {},
   "outputs": [
    {
     "data": {
      "text/plain": [
       "<matplotlib.legend.Legend at 0x17daafb9e10>"
      ]
     },
     "execution_count": 77,
     "metadata": {},
     "output_type": "execute_result"
    },
    {
     "data": {
      "image/png": "[encoded data removed]",
      "text/plain": [
       "<Figure size 720x720 with 1 Axes>"
      ]
     },
     "metadata": {
      "needs_background": "light"
     },
     "output_type": "display_data"
    }
   ],
   "source": [
    "plt.figure(figsize=(10, 10))\n",
    "plt.title('Iteration methods')\n",
    "plt.xlabel('Size of matrix')\n",
    "plt.ylabel('Eval time, s')\n",
    "\n",
    "for method in iter_times.keys():\n",
    "    plt.plot(siz, iter_times[method], color=colors.pop(0), label=method)\n",
    "\n",
    "plt.legend()"
   ]
  }
 ],
 "metadata": {
  "kernelspec": {
   "display_name": "Python 3 (ipykernel)",
   "language": "python",
   "name": "python3"
  },
  "language_info": {
   "codemirror_mode": {
    "name": "ipython",
    "version": 3
   },
   "file_extension": ".py",
   "mimetype": "text/x-python",
   "name": "python",
   "nbconvert_exporter": "python",
   "pygments_lexer": "ipython3",
   "version": "3.10.5"
  }
 },
 "nbformat": 4,
 "nbformat_minor": 5
}
