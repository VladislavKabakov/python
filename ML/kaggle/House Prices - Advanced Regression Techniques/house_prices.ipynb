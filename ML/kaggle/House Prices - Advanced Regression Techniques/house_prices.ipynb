{
 "cells": [
  {
   "cell_type": "code",
   "execution_count": 3,
   "id": "0755dc8f",
   "metadata": {},
   "outputs": [
    {
     "name": "stderr",
     "output_type": "stream",
     "text": [
      "C:\\Users\\н\\Desktop\\python\\lib\\site-packages\\tqdm\\auto.py:22: TqdmWarning: IProgress not found. Please update jupyter and ipywidgets. See https://ipywidgets.readthedocs.io/en/stable/user_install.html\n",
      "  from .autonotebook import tqdm as notebook_tqdm\n"
     ]
    }
   ],
   "source": [
    "import torch\n",
    "import numpy as np\n",
    "import pandas as pd\n",
    "\n",
    "from sklearn.ensemble import RandomForestRegressor\n",
    "\n",
    "import tqdm"
   ]
  },
  {
   "cell_type": "markdown",
   "id": "76db798d",
   "metadata": {},
   "source": [
    "## Loading data"
   ]
  },
  {
   "cell_type": "code",
   "execution_count": 4,
   "id": "092e718f",
   "metadata": {},
   "outputs": [],
   "source": [
    "train_data = pd.read_csv(\"C://Users/н/Downloads/train.csv\")\n",
    "test_data = pd.read_csv(\"C://Users/н/Downloads/test.csv\")"
   ]
  },
  {
   "cell_type": "code",
   "execution_count": 5,
   "id": "20994c17",
   "metadata": {},
   "outputs": [
    {
     "data": {
      "text/html": [
       "<div>\n",
       "<style scoped>\n",
       "    .dataframe tbody tr th:only-of-type {\n",
       "        vertical-align: middle;\n",
       "    }\n",
       "\n",
       "    .dataframe tbody tr th {\n",
       "        vertical-align: top;\n",
       "    }\n",
       "\n",
       "    .dataframe thead th {\n",
       "        text-align: right;\n",
       "    }\n",
       "</style>\n",
       "<table border=\"1\" class=\"dataframe\">\n",
       "  <thead>\n",
       "    <tr style=\"text-align: right;\">\n",
       "      <th></th>\n",
       "      <th>Id</th>\n",
       "      <th>MSSubClass</th>\n",
       "      <th>MSZoning</th>\n",
       "      <th>LotFrontage</th>\n",
       "      <th>LotArea</th>\n",
       "      <th>Street</th>\n",
       "      <th>Alley</th>\n",
       "      <th>LotShape</th>\n",
       "      <th>LandContour</th>\n",
       "      <th>Utilities</th>\n",
       "      <th>...</th>\n",
       "      <th>PoolArea</th>\n",
       "      <th>PoolQC</th>\n",
       "      <th>Fence</th>\n",
       "      <th>MiscFeature</th>\n",
       "      <th>MiscVal</th>\n",
       "      <th>MoSold</th>\n",
       "      <th>YrSold</th>\n",
       "      <th>SaleType</th>\n",
       "      <th>SaleCondition</th>\n",
       "      <th>SalePrice</th>\n",
       "    </tr>\n",
       "  </thead>\n",
       "  <tbody>\n",
       "    <tr>\n",
       "      <th>0</th>\n",
       "      <td>1</td>\n",
       "      <td>60</td>\n",
       "      <td>RL</td>\n",
       "      <td>65.0</td>\n",
       "      <td>8450</td>\n",
       "      <td>Pave</td>\n",
       "      <td>NaN</td>\n",
       "      <td>Reg</td>\n",
       "      <td>Lvl</td>\n",
       "      <td>AllPub</td>\n",
       "      <td>...</td>\n",
       "      <td>0</td>\n",
       "      <td>NaN</td>\n",
       "      <td>NaN</td>\n",
       "      <td>NaN</td>\n",
       "      <td>0</td>\n",
       "      <td>2</td>\n",
       "      <td>2008</td>\n",
       "      <td>WD</td>\n",
       "      <td>Normal</td>\n",
       "      <td>208500</td>\n",
       "    </tr>\n",
       "    <tr>\n",
       "      <th>1</th>\n",
       "      <td>2</td>\n",
       "      <td>20</td>\n",
       "      <td>RL</td>\n",
       "      <td>80.0</td>\n",
       "      <td>9600</td>\n",
       "      <td>Pave</td>\n",
       "      <td>NaN</td>\n",
       "      <td>Reg</td>\n",
       "      <td>Lvl</td>\n",
       "      <td>AllPub</td>\n",
       "      <td>...</td>\n",
       "      <td>0</td>\n",
       "      <td>NaN</td>\n",
       "      <td>NaN</td>\n",
       "      <td>NaN</td>\n",
       "      <td>0</td>\n",
       "      <td>5</td>\n",
       "      <td>2007</td>\n",
       "      <td>WD</td>\n",
       "      <td>Normal</td>\n",
       "      <td>181500</td>\n",
       "    </tr>\n",
       "    <tr>\n",
       "      <th>2</th>\n",
       "      <td>3</td>\n",
       "      <td>60</td>\n",
       "      <td>RL</td>\n",
       "      <td>68.0</td>\n",
       "      <td>11250</td>\n",
       "      <td>Pave</td>\n",
       "      <td>NaN</td>\n",
       "      <td>IR1</td>\n",
       "      <td>Lvl</td>\n",
       "      <td>AllPub</td>\n",
       "      <td>...</td>\n",
       "      <td>0</td>\n",
       "      <td>NaN</td>\n",
       "      <td>NaN</td>\n",
       "      <td>NaN</td>\n",
       "      <td>0</td>\n",
       "      <td>9</td>\n",
       "      <td>2008</td>\n",
       "      <td>WD</td>\n",
       "      <td>Normal</td>\n",
       "      <td>223500</td>\n",
       "    </tr>\n",
       "    <tr>\n",
       "      <th>3</th>\n",
       "      <td>4</td>\n",
       "      <td>70</td>\n",
       "      <td>RL</td>\n",
       "      <td>60.0</td>\n",
       "      <td>9550</td>\n",
       "      <td>Pave</td>\n",
       "      <td>NaN</td>\n",
       "      <td>IR1</td>\n",
       "      <td>Lvl</td>\n",
       "      <td>AllPub</td>\n",
       "      <td>...</td>\n",
       "      <td>0</td>\n",
       "      <td>NaN</td>\n",
       "      <td>NaN</td>\n",
       "      <td>NaN</td>\n",
       "      <td>0</td>\n",
       "      <td>2</td>\n",
       "      <td>2006</td>\n",
       "      <td>WD</td>\n",
       "      <td>Abnorml</td>\n",
       "      <td>140000</td>\n",
       "    </tr>\n",
       "    <tr>\n",
       "      <th>4</th>\n",
       "      <td>5</td>\n",
       "      <td>60</td>\n",
       "      <td>RL</td>\n",
       "      <td>84.0</td>\n",
       "      <td>14260</td>\n",
       "      <td>Pave</td>\n",
       "      <td>NaN</td>\n",
       "      <td>IR1</td>\n",
       "      <td>Lvl</td>\n",
       "      <td>AllPub</td>\n",
       "      <td>...</td>\n",
       "      <td>0</td>\n",
       "      <td>NaN</td>\n",
       "      <td>NaN</td>\n",
       "      <td>NaN</td>\n",
       "      <td>0</td>\n",
       "      <td>12</td>\n",
       "      <td>2008</td>\n",
       "      <td>WD</td>\n",
       "      <td>Normal</td>\n",
       "      <td>250000</td>\n",
       "    </tr>\n",
       "  </tbody>\n",
       "</table>\n",
       "<p>5 rows × 81 columns</p>\n",
       "</div>"
      ],
      "text/plain": [
       "   Id  MSSubClass MSZoning  LotFrontage  LotArea Street Alley LotShape  \\\n",
       "0   1          60       RL         65.0     8450   Pave   NaN      Reg   \n",
       "1   2          20       RL         80.0     9600   Pave   NaN      Reg   \n",
       "2   3          60       RL         68.0    11250   Pave   NaN      IR1   \n",
       "3   4          70       RL         60.0     9550   Pave   NaN      IR1   \n",
       "4   5          60       RL         84.0    14260   Pave   NaN      IR1   \n",
       "\n",
       "  LandContour Utilities  ... PoolArea PoolQC Fence MiscFeature MiscVal MoSold  \\\n",
       "0         Lvl    AllPub  ...        0    NaN   NaN         NaN       0      2   \n",
       "1         Lvl    AllPub  ...        0    NaN   NaN         NaN       0      5   \n",
       "2         Lvl    AllPub  ...        0    NaN   NaN         NaN       0      9   \n",
       "3         Lvl    AllPub  ...        0    NaN   NaN         NaN       0      2   \n",
       "4         Lvl    AllPub  ...        0    NaN   NaN         NaN       0     12   \n",
       "\n",
       "  YrSold  SaleType  SaleCondition  SalePrice  \n",
       "0   2008        WD         Normal     208500  \n",
       "1   2007        WD         Normal     181500  \n",
       "2   2008        WD         Normal     223500  \n",
       "3   2006        WD        Abnorml     140000  \n",
       "4   2008        WD         Normal     250000  \n",
       "\n",
       "[5 rows x 81 columns]"
      ]
     },
     "execution_count": 5,
     "metadata": {},
     "output_type": "execute_result"
    }
   ],
   "source": [
    "train_data.head()"
   ]
  },
  {
   "cell_type": "markdown",
   "id": "cf7a251d",
   "metadata": {},
   "source": [
    "### Preprocessing"
   ]
  },
  {
   "cell_type": "code",
   "execution_count": 6,
   "id": "b6aab64a",
   "metadata": {},
   "outputs": [],
   "source": [
    "for data in train_data, test_data:\n",
    "    for col in data.columns:\n",
    "        if data[col].isna().sum() / data.shape[0] > 0.8:\n",
    "            data.drop(columns=col, inplace=True)"
   ]
  },
  {
   "cell_type": "code",
   "execution_count": 7,
   "id": "a1f1f1bc",
   "metadata": {},
   "outputs": [],
   "source": [
    "y_train = train_data['SalePrice'].astype('float64')\n",
    "train_data.drop(columns=['SalePrice', 'Id'], inplace=True)"
   ]
  },
  {
   "cell_type": "code",
   "execution_count": 8,
   "id": "6097a5f6",
   "metadata": {},
   "outputs": [],
   "source": [
    "id_col = test_data['Id']\n",
    "test_data.drop(columns='Id', inplace=True)"
   ]
  },
  {
   "cell_type": "code",
   "execution_count": 9,
   "id": "876607bf",
   "metadata": {},
   "outputs": [],
   "source": [
    "X_train = pd.get_dummies(train_data, drop_first=True, dtype='float64').fillna(0)\n",
    "X_test = pd.get_dummies(test_data, drop_first=True, dtype='float64').fillna(0)"
   ]
  },
  {
   "cell_type": "code",
   "execution_count": 10,
   "id": "7ada81db",
   "metadata": {},
   "outputs": [],
   "source": [
    "for col in X_train.columns:\n",
    "    if col not in X_test.columns:\n",
    "        X_train.drop(columns=col, inplace=True)\n",
    "        "
   ]
  },
  {
   "cell_type": "markdown",
   "id": "bfd0ffb5",
   "metadata": {},
   "source": [
    "## Simple RandomForestRegressor\n"
   ]
  },
  {
   "cell_type": "code",
   "execution_count": 38,
   "id": "219b41b6",
   "metadata": {},
   "outputs": [],
   "source": [
    "from sklearn.ensemble import RandomForestRegressor"
   ]
  },
  {
   "cell_type": "markdown",
   "id": "8a1d57fd",
   "metadata": {},
   "source": [
    "### Fitting & getting results"
   ]
  },
  {
   "cell_type": "code",
   "execution_count": 17,
   "id": "35bb5c1b",
   "metadata": {},
   "outputs": [],
   "source": [
    "rf = RandomForestRegressor(n_estimators=300, max_depth=220, n_jobs=-1)\n",
    "rf.fit(X_train, y_train)\n",
    "rf_predict = rf.predict(X_test)"
   ]
  },
  {
   "cell_type": "code",
   "execution_count": 18,
   "id": "cef1dbf8",
   "metadata": {},
   "outputs": [],
   "source": [
    "pd.DataFrame({'Id': id_col, 'SalePrice': rf_predict}).to_csv('submission.csv', index=None, header=True)"
   ]
  },
  {
   "cell_type": "markdown",
   "id": "f766e1d1",
   "metadata": {},
   "source": [
    "## CatBoost"
   ]
  },
  {
   "cell_type": "code",
   "execution_count": 11,
   "id": "477ff0dd",
   "metadata": {},
   "outputs": [],
   "source": [
    "from catboost import CatBoostRegressor\n",
    "\n",
    "from sklearn.model_selection import train_test_split"
   ]
  },
  {
   "cell_type": "code",
   "execution_count": 12,
   "id": "dc7d03aa",
   "metadata": {},
   "outputs": [],
   "source": [
    "X_train_bst, X_test_bst, y_train_bst, y_test_bst = train_test_split(X_train, y_train, train_size=0.7)"
   ]
  },
  {
   "cell_type": "markdown",
   "id": "0ab451f0",
   "metadata": {},
   "source": [
    "### Fitting & getting results"
   ]
  },
  {
   "cell_type": "code",
   "execution_count": 13,
   "id": "7718fe34",
   "metadata": {},
   "outputs": [],
   "source": [
    "model = CatBoostRegressor(random_state=1,\n",
    "                         learning_rate=0.1,\n",
    "                         use_best_model=True)"
   ]
  },
  {
   "cell_type": "code",
   "execution_count": 15,
   "id": "75b43f32",
   "metadata": {},
   "outputs": [
    {
     "name": "stdout",
     "output_type": "stream",
     "text": [
      "0:\tlearn: 74306.2653485\ttest: 74684.6597798\tbest: 74684.6597798 (0)\ttotal: 189ms\tremaining: 3m 8s\n",
      "10:\tlearn: 43953.2640387\ttest: 46025.4352840\tbest: 46025.4352840 (10)\ttotal: 317ms\tremaining: 28.5s\n",
      "20:\tlearn: 31404.7233269\ttest: 33888.7622726\tbest: 33888.7622726 (20)\ttotal: 437ms\tremaining: 20.4s\n",
      "30:\tlearn: 25457.7730602\ttest: 27688.1770245\tbest: 27688.1770245 (30)\ttotal: 560ms\tremaining: 17.5s\n",
      "40:\tlearn: 22591.5133995\ttest: 24453.0816761\tbest: 24453.0816761 (40)\ttotal: 699ms\tremaining: 16.4s\n",
      "50:\tlearn: 20759.4587279\ttest: 22542.3055800\tbest: 22542.3055800 (50)\ttotal: 769ms\tremaining: 14.3s\n",
      "60:\tlearn: 19297.1354211\ttest: 20639.7803704\tbest: 20639.7803704 (60)\ttotal: 900ms\tremaining: 13.8s\n",
      "70:\tlearn: 18245.9995742\ttest: 19318.3217709\tbest: 19318.3217709 (70)\ttotal: 1.02s\tremaining: 13.3s\n",
      "80:\tlearn: 17441.3928733\ttest: 18432.8278538\tbest: 18432.8278538 (80)\ttotal: 1.19s\tremaining: 13.5s\n",
      "90:\tlearn: 16858.2205792\ttest: 17819.9019508\tbest: 17819.9019508 (90)\ttotal: 1.33s\tremaining: 13.3s\n",
      "100:\tlearn: 16219.6184844\ttest: 17046.7926673\tbest: 17046.7926673 (100)\ttotal: 1.45s\tremaining: 12.9s\n",
      "110:\tlearn: 15464.3380651\ttest: 16210.2734133\tbest: 16210.2734133 (110)\ttotal: 1.61s\tremaining: 12.9s\n",
      "120:\tlearn: 14895.3427541\ttest: 15571.0889138\tbest: 15571.0889138 (120)\ttotal: 1.7s\tremaining: 12.4s\n",
      "130:\tlearn: 14448.0679128\ttest: 14973.6534506\tbest: 14973.6534506 (130)\ttotal: 1.84s\tremaining: 12.2s\n",
      "140:\tlearn: 14043.2500093\ttest: 14526.5973072\tbest: 14526.5973072 (140)\ttotal: 1.93s\tremaining: 11.8s\n",
      "150:\tlearn: 13567.6524039\ttest: 13954.9013634\tbest: 13954.9013634 (150)\ttotal: 2.06s\tremaining: 11.6s\n",
      "160:\tlearn: 13180.9667665\ttest: 13504.3403391\tbest: 13504.3403391 (160)\ttotal: 2.15s\tremaining: 11.2s\n",
      "170:\tlearn: 12737.3867922\ttest: 13002.1666533\tbest: 13002.1666533 (170)\ttotal: 2.29s\tremaining: 11.1s\n",
      "180:\tlearn: 12342.3587809\ttest: 12558.7057766\tbest: 12558.7057766 (180)\ttotal: 2.41s\tremaining: 10.9s\n",
      "190:\tlearn: 11974.5362273\ttest: 12147.3390560\tbest: 12147.3390560 (190)\ttotal: 2.54s\tremaining: 10.8s\n",
      "200:\tlearn: 11589.3082374\ttest: 11761.9437826\tbest: 11761.9437826 (200)\ttotal: 2.65s\tremaining: 10.5s\n",
      "210:\tlearn: 11296.6858044\ttest: 11441.9211128\tbest: 11441.9211128 (210)\ttotal: 2.75s\tremaining: 10.3s\n",
      "220:\tlearn: 10986.7184297\ttest: 11118.4086090\tbest: 11118.4086090 (220)\ttotal: 2.84s\tremaining: 10s\n",
      "230:\tlearn: 10688.2737460\ttest: 10817.1347294\tbest: 10817.1347294 (230)\ttotal: 3.06s\tremaining: 10.2s\n",
      "240:\tlearn: 10343.7507808\ttest: 10426.8613998\tbest: 10426.8613998 (240)\ttotal: 3.15s\tremaining: 9.92s\n",
      "250:\tlearn: 10032.7094857\ttest: 10089.0563715\tbest: 10089.0563715 (250)\ttotal: 3.23s\tremaining: 9.63s\n",
      "260:\tlearn: 9733.4640714\ttest: 9704.1600417\tbest: 9704.1600417 (260)\ttotal: 3.36s\tremaining: 9.52s\n",
      "270:\tlearn: 9505.6890325\ttest: 9481.0557438\tbest: 9481.0557438 (270)\ttotal: 3.48s\tremaining: 9.35s\n",
      "280:\tlearn: 9296.3476118\ttest: 9280.7301532\tbest: 9280.7301532 (280)\ttotal: 3.6s\tremaining: 9.2s\n",
      "290:\tlearn: 9015.1347903\ttest: 9032.8327321\tbest: 9032.8327321 (290)\ttotal: 3.71s\tremaining: 9.04s\n",
      "300:\tlearn: 8776.9738904\ttest: 8762.1091072\tbest: 8762.1091072 (300)\ttotal: 3.83s\tremaining: 8.9s\n",
      "310:\tlearn: 8511.0868933\ttest: 8501.6217815\tbest: 8501.6217815 (310)\ttotal: 3.93s\tremaining: 8.71s\n",
      "320:\tlearn: 8331.6374901\ttest: 8317.2312023\tbest: 8317.2312023 (320)\ttotal: 4.02s\tremaining: 8.5s\n",
      "330:\tlearn: 8110.5658803\ttest: 8044.5075885\tbest: 8044.5075885 (330)\ttotal: 4.1s\tremaining: 8.29s\n",
      "340:\tlearn: 7872.4111462\ttest: 7799.5298410\tbest: 7799.5298410 (340)\ttotal: 4.22s\tremaining: 8.16s\n",
      "350:\tlearn: 7724.6053171\ttest: 7656.8226831\tbest: 7656.8226831 (350)\ttotal: 4.33s\tremaining: 8.02s\n",
      "360:\tlearn: 7547.0858380\ttest: 7503.6943991\tbest: 7503.6943991 (360)\ttotal: 4.46s\tremaining: 7.89s\n",
      "370:\tlearn: 7442.8955459\ttest: 7375.8590675\tbest: 7375.8590675 (370)\ttotal: 4.54s\tremaining: 7.71s\n",
      "380:\tlearn: 7267.4248232\ttest: 7204.8056360\tbest: 7204.8056360 (380)\ttotal: 4.63s\tremaining: 7.52s\n",
      "390:\tlearn: 7116.4860994\ttest: 7054.2214662\tbest: 7054.2214662 (390)\ttotal: 4.75s\tremaining: 7.39s\n",
      "400:\tlearn: 6996.0833688\ttest: 6929.9026021\tbest: 6929.9026021 (400)\ttotal: 4.83s\tremaining: 7.21s\n",
      "410:\tlearn: 6828.0986563\ttest: 6785.0177083\tbest: 6785.0177083 (410)\ttotal: 4.97s\tremaining: 7.12s\n",
      "420:\tlearn: 6734.5918041\ttest: 6685.9363164\tbest: 6685.9363164 (420)\ttotal: 5.09s\tremaining: 7s\n",
      "430:\tlearn: 6618.3505987\ttest: 6554.5367726\tbest: 6554.5367726 (430)\ttotal: 5.29s\tremaining: 6.98s\n",
      "440:\tlearn: 6483.1925524\ttest: 6414.7530432\tbest: 6414.7530432 (440)\ttotal: 5.37s\tremaining: 6.81s\n",
      "450:\tlearn: 6334.3015518\ttest: 6263.7796577\tbest: 6263.7796577 (450)\ttotal: 5.5s\tremaining: 6.69s\n",
      "460:\tlearn: 6201.6886518\ttest: 6128.3221145\tbest: 6128.3221145 (460)\ttotal: 5.63s\tremaining: 6.58s\n",
      "470:\tlearn: 6071.1597078\ttest: 6001.2752036\tbest: 6001.2752036 (470)\ttotal: 5.77s\tremaining: 6.48s\n",
      "480:\tlearn: 5978.7386195\ttest: 5930.5000734\tbest: 5930.5000734 (480)\ttotal: 5.88s\tremaining: 6.34s\n",
      "490:\tlearn: 5884.9681768\ttest: 5827.9762094\tbest: 5827.9762094 (490)\ttotal: 6.05s\tremaining: 6.27s\n",
      "500:\tlearn: 5764.8133845\ttest: 5703.5099987\tbest: 5703.5099987 (500)\ttotal: 6.15s\tremaining: 6.12s\n",
      "510:\tlearn: 5670.0496181\ttest: 5597.1333655\tbest: 5597.1333655 (510)\ttotal: 6.24s\tremaining: 5.97s\n",
      "520:\tlearn: 5533.8971724\ttest: 5462.4887062\tbest: 5462.4887062 (520)\ttotal: 6.34s\tremaining: 5.83s\n",
      "530:\tlearn: 5461.7881871\ttest: 5396.0441194\tbest: 5396.0441194 (530)\ttotal: 6.43s\tremaining: 5.68s\n",
      "540:\tlearn: 5351.9099475\ttest: 5290.3985323\tbest: 5290.3985323 (540)\ttotal: 6.56s\tremaining: 5.57s\n",
      "550:\tlearn: 5231.1349162\ttest: 5172.8651251\tbest: 5172.8651251 (550)\ttotal: 6.65s\tremaining: 5.42s\n",
      "560:\tlearn: 5104.3025714\ttest: 5040.3532019\tbest: 5040.3532019 (560)\ttotal: 6.76s\tremaining: 5.29s\n",
      "570:\tlearn: 4989.5412354\ttest: 4929.3125368\tbest: 4929.3125368 (570)\ttotal: 6.88s\tremaining: 5.17s\n",
      "580:\tlearn: 4892.0965652\ttest: 4838.6890721\tbest: 4838.6890721 (580)\ttotal: 6.99s\tremaining: 5.04s\n",
      "590:\tlearn: 4794.2877282\ttest: 4755.0961253\tbest: 4755.0961253 (590)\ttotal: 7.15s\tremaining: 4.95s\n",
      "600:\tlearn: 4709.5285707\ttest: 4674.0785768\tbest: 4674.0785768 (600)\ttotal: 7.28s\tremaining: 4.83s\n",
      "610:\tlearn: 4600.6635170\ttest: 4558.5342167\tbest: 4558.5342167 (610)\ttotal: 7.42s\tremaining: 4.72s\n",
      "620:\tlearn: 4537.1013464\ttest: 4493.9314790\tbest: 4493.9314790 (620)\ttotal: 7.56s\tremaining: 4.61s\n",
      "630:\tlearn: 4476.8722219\ttest: 4431.3015985\tbest: 4431.3015985 (630)\ttotal: 7.7s\tremaining: 4.5s\n",
      "640:\tlearn: 4398.5186412\ttest: 4351.5950850\tbest: 4351.5950850 (640)\ttotal: 7.8s\tremaining: 4.37s\n",
      "650:\tlearn: 4320.2329877\ttest: 4279.7450648\tbest: 4279.7450648 (650)\ttotal: 7.97s\tremaining: 4.27s\n",
      "660:\tlearn: 4257.7293141\ttest: 4216.7338177\tbest: 4216.7338177 (660)\ttotal: 8.14s\tremaining: 4.18s\n",
      "670:\tlearn: 4166.8617485\ttest: 4125.4421689\tbest: 4125.4421689 (670)\ttotal: 8.24s\tremaining: 4.04s\n",
      "680:\tlearn: 4099.5698121\ttest: 4068.8485090\tbest: 4068.8485090 (680)\ttotal: 8.36s\tremaining: 3.92s\n",
      "690:\tlearn: 4049.1565544\ttest: 4026.2361535\tbest: 4026.2361535 (690)\ttotal: 8.48s\tremaining: 3.79s\n",
      "700:\tlearn: 3972.9726880\ttest: 3968.9540484\tbest: 3968.9540484 (700)\ttotal: 8.66s\tremaining: 3.69s\n",
      "710:\tlearn: 3901.8911761\ttest: 3907.8848773\tbest: 3907.8848773 (710)\ttotal: 8.77s\tremaining: 3.56s\n",
      "720:\tlearn: 3837.7966471\ttest: 3840.8725552\tbest: 3840.8725552 (720)\ttotal: 8.91s\tremaining: 3.45s\n",
      "730:\tlearn: 3754.9406220\ttest: 3756.3952967\tbest: 3756.3952967 (730)\ttotal: 9.03s\tremaining: 3.32s\n",
      "740:\tlearn: 3673.9239025\ttest: 3685.6973548\tbest: 3685.6973548 (740)\ttotal: 9.12s\tremaining: 3.19s\n",
      "750:\tlearn: 3608.3963112\ttest: 3620.6675976\tbest: 3620.6675976 (750)\ttotal: 9.24s\tremaining: 3.06s\n",
      "760:\tlearn: 3556.1410497\ttest: 3572.5417417\tbest: 3572.5417417 (760)\ttotal: 9.37s\tremaining: 2.94s\n",
      "770:\tlearn: 3502.8978293\ttest: 3521.8464346\tbest: 3521.8464346 (770)\ttotal: 9.46s\tremaining: 2.81s\n",
      "780:\tlearn: 3444.4381625\ttest: 3464.8573772\tbest: 3464.8573772 (780)\ttotal: 9.54s\tremaining: 2.67s\n",
      "790:\tlearn: 3393.1424280\ttest: 3411.4323039\tbest: 3411.4323039 (790)\ttotal: 9.62s\tremaining: 2.54s\n",
      "800:\tlearn: 3328.1592390\ttest: 3352.7451501\tbest: 3352.7451501 (800)\ttotal: 9.73s\tremaining: 2.42s\n",
      "810:\tlearn: 3251.5813274\ttest: 3273.1287615\tbest: 3273.1287615 (810)\ttotal: 9.84s\tremaining: 2.29s\n",
      "820:\tlearn: 3196.0229182\ttest: 3217.8534499\tbest: 3217.8534499 (820)\ttotal: 9.91s\tremaining: 2.16s\n"
     ]
    },
    {
     "name": "stdout",
     "output_type": "stream",
     "text": [
      "830:\tlearn: 3150.3886676\ttest: 3171.0943607\tbest: 3171.0943607 (830)\ttotal: 10s\tremaining: 2.04s\n",
      "840:\tlearn: 3083.2808754\ttest: 3102.2667951\tbest: 3102.2667951 (840)\ttotal: 10.2s\tremaining: 1.93s\n",
      "850:\tlearn: 3036.6450812\ttest: 3063.8202713\tbest: 3063.8202713 (850)\ttotal: 10.3s\tremaining: 1.8s\n",
      "860:\tlearn: 2969.7670229\ttest: 2999.8324619\tbest: 2999.8324619 (860)\ttotal: 10.4s\tremaining: 1.68s\n",
      "870:\tlearn: 2911.1547836\ttest: 2927.3753167\tbest: 2927.3753167 (870)\ttotal: 10.6s\tremaining: 1.57s\n",
      "880:\tlearn: 2865.7332161\ttest: 2879.0682098\tbest: 2879.0682098 (880)\ttotal: 10.7s\tremaining: 1.44s\n",
      "890:\tlearn: 2817.7941153\ttest: 2837.5295091\tbest: 2837.5295091 (890)\ttotal: 10.8s\tremaining: 1.32s\n",
      "900:\tlearn: 2771.9883098\ttest: 2783.0197647\tbest: 2783.0197647 (900)\ttotal: 10.9s\tremaining: 1.2s\n",
      "910:\tlearn: 2715.1916961\ttest: 2725.3256496\tbest: 2725.3256496 (910)\ttotal: 11.1s\tremaining: 1.08s\n",
      "920:\tlearn: 2668.7685409\ttest: 2676.8233653\tbest: 2676.8233653 (920)\ttotal: 11.2s\tremaining: 959ms\n",
      "930:\tlearn: 2624.1739900\ttest: 2630.5981755\tbest: 2630.5981755 (930)\ttotal: 11.3s\tremaining: 837ms\n",
      "940:\tlearn: 2579.2916064\ttest: 2589.8493297\tbest: 2589.8493297 (940)\ttotal: 11.4s\tremaining: 714ms\n",
      "950:\tlearn: 2530.1224116\ttest: 2542.3602120\tbest: 2542.3602120 (950)\ttotal: 11.5s\tremaining: 594ms\n",
      "960:\tlearn: 2494.0634778\ttest: 2504.6953645\tbest: 2504.6953645 (960)\ttotal: 11.6s\tremaining: 472ms\n",
      "970:\tlearn: 2455.3530732\ttest: 2470.1508109\tbest: 2470.1508109 (970)\ttotal: 11.7s\tremaining: 350ms\n",
      "980:\tlearn: 2432.5895105\ttest: 2445.8955779\tbest: 2445.8955779 (980)\ttotal: 11.8s\tremaining: 229ms\n",
      "990:\tlearn: 2389.6496151\ttest: 2407.8537315\tbest: 2407.8537315 (990)\ttotal: 12s\tremaining: 109ms\n",
      "999:\tlearn: 2368.6350564\ttest: 2386.6375279\tbest: 2386.6375279 (999)\ttotal: 12.1s\tremaining: 0us\n",
      "\n",
      "bestTest = 2386.637528\n",
      "bestIteration = 999\n",
      "\n"
     ]
    },
    {
     "data": {
      "text/plain": [
       "<catboost.core.CatBoostRegressor at 0x273ebfc9090>"
      ]
     },
     "execution_count": 15,
     "metadata": {},
     "output_type": "execute_result"
    }
   ],
   "source": [
    "model.fit(np.array(X_train, dtype='float'), \n",
    "          np.array(y_train, dtype='float'), \n",
    "          eval_set=(X_test_bst, y_test_bst),\n",
    "          verbose=10) "
   ]
  },
  {
   "cell_type": "code",
   "execution_count": 16,
   "id": "469ab778",
   "metadata": {},
   "outputs": [],
   "source": [
    "y_pred = model.predict(np.array(X_test, dtype='float'))"
   ]
  },
  {
   "cell_type": "code",
   "execution_count": 17,
   "id": "682ac5aa",
   "metadata": {},
   "outputs": [],
   "source": [
    "pd.DataFrame({'Id': id_col, 'SalePrice': y_pred}).to_csv('submission.csv', index=None, header=True)"
   ]
  },
  {
   "cell_type": "raw",
   "id": "0d235180",
   "metadata": {},
   "source": []
  }
 ],
 "metadata": {
  "kernelspec": {
   "display_name": "Python 3 (ipykernel)",
   "language": "python",
   "name": "python3"
  },
  "language_info": {
   "codemirror_mode": {
    "name": "ipython",
    "version": 3
   },
   "file_extension": ".py",
   "mimetype": "text/x-python",
   "name": "python",
   "nbconvert_exporter": "python",
   "pygments_lexer": "ipython3",
   "version": "3.10.5"
  }
 },
 "nbformat": 4,
 "nbformat_minor": 5
}
