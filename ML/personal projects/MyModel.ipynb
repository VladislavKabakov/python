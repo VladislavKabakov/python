{
 "cells": [
  {
   "cell_type": "code",
   "execution_count": null,
   "id": "6c3f8a3e",
   "metadata": {},
   "outputs": [],
   "source": [
    "import torch \n",
    "from PIL import Image\n",
    "from torch import nn, save, load\n",
    "from torch.optim import Adam\n",
    "from torch.utils.data import DataLoader\n",
    "from torchvision import datasets\n",
    "from torchvision.transforms import ToTensor"
   ]
  },
  {
   "cell_type": "markdown",
   "id": "050a237f",
   "metadata": {},
   "source": [
    "## Getting data"
   ]
  },
  {
   "cell_type": "code",
   "execution_count": null,
   "id": "ef03cf14",
   "metadata": {},
   "outputs": [],
   "source": [
    "train = datasets.MNIST(root=\"data\", download=True, train=True, transform=ToTensor())\n",
    "dataset = DataLoader(train, 32)"
   ]
  },
  {
   "cell_type": "markdown",
   "id": "6d055220",
   "metadata": {},
   "source": [
    "## Creating model"
   ]
  },
  {
   "cell_type": "code",
   "execution_count": null,
   "id": "1e34e861",
   "metadata": {},
   "outputs": [],
   "source": [
    "class ImageClassifier(nn.Module): \n",
    "    def __init__(self):\n",
    "        super().__init__()\n",
    "        self.model = nn.Sequential(\n",
    "            nn.Conv2d(1, 32, (3,3)), \n",
    "            nn.ReLU(),\n",
    "            nn.Conv2d(32, 64, (3,3)), \n",
    "            nn.ReLU(),\n",
    "            nn.Conv2d(64, 64, (3,3)), \n",
    "            nn.ReLU(),\n",
    "            nn.Flatten(), \n",
    "            nn.Linear(64*(28-6)*(28-6), 10)  \n",
    "        )\n",
    "\n",
    "    def forward(self, x): \n",
    "        return self.model(x)"
   ]
  },
  {
   "cell_type": "code",
   "execution_count": null,
   "id": "40d29e9e",
   "metadata": {},
   "outputs": [],
   "source": [
    "clf = ImageClassifier().to('cuda')\n",
    "opt = Adam(clf.parameters(), lr=1e-3)\n",
    "loss_fn = nn.CrossEntropyLoss() "
   ]
  },
  {
   "cell_type": "markdown",
   "id": "0f825981",
   "metadata": {},
   "source": [
    "## Training model"
   ]
  },
  {
   "cell_type": "code",
   "execution_count": null,
   "id": "ff8897be",
   "metadata": {},
   "outputs": [],
   "source": [
    "if __name__ == \"__main__\": \n",
    "    for epoch in range(10): # train for 10 epochs\n",
    "        for batch in dataset: \n",
    "            X,y = batch \n",
    "            X, y = X.to('cuda'), y.to('cuda') \n",
    "            yhat = clf(X) \n",
    "            loss = loss_fn(yhat, y) \n",
    "\n",
    "            # Apply backprop \n",
    "            opt.zero_grad()\n",
    "            loss.backward() \n",
    "            opt.step() \n",
    "\n",
    "        print(f\"Epoch:{epoch} loss is {loss.item()}\")\n",
    "    \n",
    "    with open('model_state.pt', 'wb') as f: \n",
    "        save(clf.state_dict(), f) \n",
    "\n",
    "    with open('model_state.pt', 'rb') as f: \n",
    "        clf.load_state_dict(load(f))  \n",
    "\n",
    "    img = Image.open('img_3.jpg') \n",
    "    img_tensor = ToTensor()(img).unsqueeze(0).to('cuda')\n",
    "\n",
    "    print(torch.argmax(clf(img_tensor)))"
   ]
  }
 ],
 "metadata": {
  "kernelspec": {
   "display_name": "Python 3 (ipykernel)",
   "language": "python",
   "name": "python3"
  },
  "language_info": {
   "codemirror_mode": {
    "name": "ipython",
    "version": 3
   },
   "file_extension": ".py",
   "mimetype": "text/x-python",
   "name": "python",
   "nbconvert_exporter": "python",
   "pygments_lexer": "ipython3",
   "version": "3.11.0"
  }
 },
 "nbformat": 4,
 "nbformat_minor": 5
}
