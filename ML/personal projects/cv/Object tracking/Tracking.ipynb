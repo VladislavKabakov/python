{
 "cells": [
  {
   "cell_type": "code",
   "execution_count": 6,
   "id": "ae4b6d6b",
   "metadata": {},
   "outputs": [],
   "source": [
    "import cv2\n",
    "import numpy as np\n",
    "from object_detection import ObjectDetection\n",
    "import math"
   ]
  },
  {
   "cell_type": "code",
   "execution_count": 7,
   "id": "7d01b413",
   "metadata": {},
   "outputs": [],
   "source": [
    "cap = cv2.VideoCapture(\"traffic.mp4\")"
   ]
  },
  {
   "cell_type": "markdown",
   "id": "7c132042",
   "metadata": {},
   "source": [
    "### Initializing object detection (Yolov4)"
   ]
  },
  {
   "cell_type": "code",
   "execution_count": 8,
   "id": "77189b4a",
   "metadata": {},
   "outputs": [
    {
     "name": "stdout",
     "output_type": "stream",
     "text": [
      "Loading Object Detection\n",
      "Running opencv dnn with YOLOv4\n"
     ]
    }
   ],
   "source": [
    "od = ObjectDetection()"
   ]
  },
  {
   "cell_type": "code",
   "execution_count": 9,
   "id": "a0c746fb",
   "metadata": {},
   "outputs": [],
   "source": [
    "count = 0\n",
    "center_points_cur_frame = []\n",
    "center_points_prev_frame = []\n",
    "\n",
    "tracking_objects = {}\n",
    "track_id = 0"
   ]
  },
  {
   "cell_type": "markdown",
   "id": "1bb33f91",
   "metadata": {},
   "source": [
    "### Detecting"
   ]
  },
  {
   "cell_type": "code",
   "execution_count": 10,
   "id": "b245587b",
   "metadata": {},
   "outputs": [],
   "source": [
    "while True:\n",
    "    ret, frame = cap.read() \n",
    "    count += 1\n",
    "    \n",
    "    if not ret:\n",
    "        break\n",
    "    \n",
    "    (class_ids, scores, boxes) = od.detect(frame)\n",
    "    for box in boxes:\n",
    "        (x, y, w, h) = box\n",
    "        cx, cy = int((2 * x + w) / 2), int((2 * y + h) / 2)\n",
    "        center_points_cur_frame.append((cx, cy))\n",
    "        cv2.rectangle(frame, (x, y), (x + w, y + h), (0, 255, 0), 2)\n",
    "        \n",
    "    if count <= 2:\n",
    "        for pt in center_points_cur_frame:\n",
    "            for pt2 in center_points_prev_frame:\n",
    "                distance = math.hypot(pt2[0] - pt[0], pt2[1] - pt[1])\n",
    "                \n",
    "                if distance < 20:\n",
    "                    tracking_objects[track_id] = pt\n",
    "                    track_id += 1\n",
    "        \n",
    "    else:\n",
    "        tracking_objects_copy = tracking_objects.copy()\n",
    "        center_points_cur_frame_copy = center_points_cur_frame.copy()\n",
    "        \n",
    "        for object_id, pt2 in tracking_objects_copy.items():\n",
    "            object_exists = False\n",
    "            for pt in center_points_cur_frame_copy:\n",
    "                distance = math.hypot(pt2[0] - pt[0], pt2[1] - pt[1])\n",
    "                \n",
    "                if distance < 20:\n",
    "                    tracking_objects[object_id] = pt\n",
    "                    object_exists = True\n",
    "                    if pt in center_points_cur_frame:\n",
    "                        center_points_cur_frame.remove(pt)\n",
    "                    continue\n",
    "            \n",
    "            if not object_exists:\n",
    "                tracking_objects.pop(object_id)\n",
    "                \n",
    "        for pt in center_points_cur_frame:\n",
    "            tracking_objects[track_id] = pt\n",
    "            track_id += 1\n",
    "    \n",
    "    for object_id, pt in tracking_objects.items():\n",
    "        cv2.circle(frame, pt, 5, (0, 0, 255), -1)\n",
    "        cv2.putText(frame, str(object_id), (pt[0], pt[1] - 7), 0, 1, (0, 0, 255))\n",
    "        \n",
    "    \n",
    "    cv2.imshow(\"Traffic\", frame)\n",
    "                    \n",
    "    center_points_prev_frame = center_points_cur_frame.copy()\n",
    "                    \n",
    "    if cv2.waitKey(1) == ord('q'): \n",
    "        break\n",
    "        \n",
    "cap.release()\n",
    "cv2.destroyAllWindows()"
   ]
  }
 ],
 "metadata": {
  "kernelspec": {
   "display_name": "Python 3 (ipykernel)",
   "language": "python",
   "name": "python3"
  },
  "language_info": {
   "codemirror_mode": {
    "name": "ipython",
    "version": 3
   },
   "file_extension": ".py",
   "mimetype": "text/x-python",
   "name": "python",
   "nbconvert_exporter": "python",
   "pygments_lexer": "ipython3",
   "version": "3.11.0"
  }
 },
 "nbformat": 4,
 "nbformat_minor": 5
}
